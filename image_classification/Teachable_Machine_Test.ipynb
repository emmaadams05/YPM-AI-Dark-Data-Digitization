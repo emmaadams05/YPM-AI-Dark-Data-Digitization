{
  "nbformat": 4,
  "nbformat_minor": 0,
  "metadata": {
    "colab": {
      "provenance": []
    },
    "kernelspec": {
      "name": "python3",
      "display_name": "Python 3"
    },
    "language_info": {
      "name": "python"
    }
  },
  "cells": [
    {
      "cell_type": "code",
      "execution_count": null,
      "metadata": {
        "id": "25VdamYyy7zz"
      },
      "outputs": [],
      "source": [
        "from keras.models import load_model  # TensorFlow is required for Keras to work\n",
        "from PIL import Image, ImageOps  # Install pillow instead of PIL\n",
        "import numpy as np"
      ]
    },
    {
      "cell_type": "markdown",
      "source": [
        "#### **Identify Exhibit with TM**"
      ],
      "metadata": {
        "id": "wmkoXKwQPPEl"
      }
    },
    {
      "cell_type": "code",
      "source": [
        "def predict_exhibit_class(image_path:str):\n",
        "  \"\"\"\n",
        "  Use: Predicts the exhibit of a given image from a specified path.\n",
        "\n",
        "  Parameters:\n",
        "    image_path: Path to the image to be predicted.\n",
        "\n",
        "  Returns: A tuple containing the predicted class (index 0) and the confidence score (index 1).\n",
        "  \"\"\"\n",
        "\n",
        "  # Disable scientific notation for clarity\n",
        "  np.set_printoptions(suppress=True)\n",
        "\n",
        "  # Load the model\n",
        "  model = load_model(\"/content/drive/MyDrive/Dark Data Internship/image_classification/exhibit/keras_model.h5\", compile=False)\n",
        "\n",
        "  # Load the labels\n",
        "  class_names = open(\"/content/drive/MyDrive/Dark Data Internship/image_classification/exhibit/labels.txt\", \"r\").readlines()\n",
        "\n",
        "  # Create the array of the right shape to feed into the keras model\n",
        "  # The 'length' or number of images you can put into the array is\n",
        "  # determined by the first position in the shape tuple, in this case 1\n",
        "  data = np.ndarray(shape=(1, 224, 224, 3), dtype=np.float32)\n",
        "\n",
        "  # Replace this with the path to your image\n",
        "  image = Image.open(image_path).convert(\"RGB\")\n",
        "\n",
        "  # resizing the image to be at least 224x224 and then cropping from the center\n",
        "  size = (224, 224)\n",
        "  image = ImageOps.fit(image, size, Image.Resampling.LANCZOS)\n",
        "\n",
        "  # turn the image into a numpy array\n",
        "  image_array = np.asarray(image)\n",
        "\n",
        "  # Normalize the image\n",
        "  normalized_image_array = (image_array.astype(np.float32) / 127.5) - 1\n",
        "\n",
        "  # Load the image into the array\n",
        "  data[0] = normalized_image_array\n",
        "\n",
        "  # Predicts the model\n",
        "  prediction = model.predict(data)\n",
        "  index = np.argmax(prediction)\n",
        "  class_name = class_names[index]\n",
        "  confidence_score = prediction[0][index]\n",
        "\n",
        "  # Print prediction and confidence score\n",
        "  return class_name[2:].replace(\"\\n\", \"\"), confidence_score"
      ],
      "metadata": {
        "id": "RHsYqMzPEGO8"
      },
      "execution_count": null,
      "outputs": []
    },
    {
      "cell_type": "code",
      "source": [
        "predict_exhibit_class(\"/content/drive/MyDrive/Dark Data Internship/image_classification/Image_Data/images/image40.jpeg\")"
      ],
      "metadata": {
        "id": "-xtccy_9Edvp"
      },
      "execution_count": null,
      "outputs": []
    },
    {
      "cell_type": "markdown",
      "source": [
        "#### **Identify Pre/Post Renovation with TM**"
      ],
      "metadata": {
        "id": "2xDfywWOPVUP"
      }
    },
    {
      "cell_type": "code",
      "source": [
        "def predict_pre_post_renovation(image_path:str):\n",
        "  \"\"\"\n",
        "  Use: Predicts if an image was taken before or after 2020-2024 renovation.\n",
        "\n",
        "  Parameters:\n",
        "    image_path: Path to the image to be predicted.\n",
        "\n",
        "  Returns: A tuple containing the predicted class (index 0) and the confidence score (index 1).\n",
        "  \"\"\"\n",
        "\n",
        "  # Disable scientific notation for clarity\n",
        "  np.set_printoptions(suppress=True)\n",
        "\n",
        "  # Load the model\n",
        "  model = load_model(\"/content/drive/MyDrive/Dark Data Internship/image_classification/pre-post-rennovation/keras_model.h5\", compile=False)\n",
        "\n",
        "  # Load the labels\n",
        "  class_names = open(\"/content/drive/MyDrive/Dark Data Internship/image_classification/pre-post-rennovation/labels.txt\", \"r\").readlines()\n",
        "\n",
        "  # Create the array of the right shape to feed into the keras model\n",
        "  # The 'length' or number of images you can put into the array is\n",
        "  # determined by the first position in the shape tuple, in this case 1\n",
        "  data = np.ndarray(shape=(1, 224, 224, 3), dtype=np.float32)\n",
        "\n",
        "  # Replace this with the path to your image\n",
        "  image = Image.open(image_path).convert(\"RGB\")\n",
        "\n",
        "  # resizing the image to be at least 224x224 and then cropping from the center\n",
        "  size = (224, 224)\n",
        "  image = ImageOps.fit(image, size, Image.Resampling.LANCZOS)\n",
        "\n",
        "  # turn the image into a numpy array\n",
        "  image_array = np.asarray(image)\n",
        "\n",
        "  # Normalize the image\n",
        "  normalized_image_array = (image_array.astype(np.float32) / 127.5) - 1\n",
        "\n",
        "  # Load the image into the array\n",
        "  data[0] = normalized_image_array\n",
        "\n",
        "  # Predicts the model\n",
        "  prediction = model.predict(data)\n",
        "  index = np.argmax(prediction)\n",
        "  class_name = class_names[index]\n",
        "  confidence_score = prediction[0][index]\n",
        "\n",
        "  # Print prediction and confidence score\n",
        "  return class_name[2:].replace(\"\\n\", \"\"), confidence_score"
      ],
      "metadata": {
        "id": "mjgHmFzrPY2P"
      },
      "execution_count": null,
      "outputs": []
    },
    {
      "cell_type": "code",
      "source": [
        "print(predict_pre_post_renovation(\"/content/drive/MyDrive/Dark Data Internship/image_classification/Image_Data/images/image40.jpeg\"))"
      ],
      "metadata": {
        "id": "h2Mg7OFiQZ0e"
      },
      "execution_count": null,
      "outputs": []
    },
    {
      "cell_type": "markdown",
      "source": [
        "#### **Predict all Options (Exhibit, Pre/Post-Renovation)**"
      ],
      "metadata": {
        "id": "Eae3VjE4hOmQ"
      }
    },
    {
      "cell_type": "code",
      "source": [
        "def predict_all(image_path:str):\n",
        "  \"\"\"\n",
        "  Use: Predicts the exhibit and relative time of a given image from a specified path.\n",
        "\n",
        "  Parameters:\n",
        "    image_path: Path to the image to be predicted.\n",
        "\n",
        "  Returns: A dictionary where the keys are the specific categories, and the key values are a\n",
        "  tuple of the predicted class (index 0) and the confidence of that class (index 1).\n",
        "  \"\"\"\n",
        "  #initialize dictionary\n",
        "  predict_dict = dict()\n",
        "\n",
        "  #predict the exhibit of the picture and add to the dictionary\n",
        "  predict_dict[\"exhibit\"] = predict_exhibit_class(image_path)\n",
        "  #predict if the image was taken pre/post-renovation and add to the dictionary\n",
        "  predict_dict[\"pre-post-renovation\"] = predict_pre_post_renovation(image_path)\n",
        "\n",
        "  #return the resulting dictioary\n",
        "  return predict_dict"
      ],
      "metadata": {
        "id": "ND6HzO1afqxQ"
      },
      "execution_count": 48,
      "outputs": []
    },
    {
      "cell_type": "code",
      "source": [
        "print(predict_all(\"/content/test1.jpg\"))"
      ],
      "metadata": {
        "colab": {
          "base_uri": "https://localhost:8080/"
        },
        "id": "j8GK18Of6ojj",
        "outputId": "87a79efc-f452-4bda-c2de-cc20249155a8"
      },
      "execution_count": null,
      "outputs": [
        {
          "output_type": "stream",
          "name": "stdout",
          "text": [
            "1/1 [==============================] - 1s 1s/step\n",
            "1/1 [==============================] - 1s 928ms/step\n",
            "{'exhibit': ('GH', 0.9907103), 'pre-post-renovation': ('Pre-Renovation', 0.9999608)}\n"
          ]
        }
      ]
    }
  ]
}